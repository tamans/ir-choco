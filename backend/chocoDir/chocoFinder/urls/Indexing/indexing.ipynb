{
 "cells": [
  {
   "cell_type": "code",
   "execution_count": 3,
   "metadata": {},
   "outputs": [
    {
     "name": "stdout",
     "output_type": "stream",
     "text": [
      "Requirement already satisfied: python-terrier in /Library/Frameworks/Python.framework/Versions/3.12/lib/python3.12/site-packages (0.10.0)\n",
      "Requirement already satisfied: numpy in /Library/Frameworks/Python.framework/Versions/3.12/lib/python3.12/site-packages (from python-terrier) (1.26.2)\n",
      "Requirement already satisfied: pandas in /Library/Frameworks/Python.framework/Versions/3.12/lib/python3.12/site-packages (from python-terrier) (2.1.4)\n",
      "Requirement already satisfied: wget in /Library/Frameworks/Python.framework/Versions/3.12/lib/python3.12/site-packages (from python-terrier) (3.2)\n",
      "Requirement already satisfied: tqdm in /Library/Frameworks/Python.framework/Versions/3.12/lib/python3.12/site-packages (from python-terrier) (4.66.1)\n",
      "Requirement already satisfied: pyjnius>=1.4.2 in /Library/Frameworks/Python.framework/Versions/3.12/lib/python3.12/site-packages (from python-terrier) (1.6.1)\n",
      "Requirement already satisfied: matchpy in /Library/Frameworks/Python.framework/Versions/3.12/lib/python3.12/site-packages (from python-terrier) (0.5.5)\n",
      "Requirement already satisfied: scikit-learn in /Library/Frameworks/Python.framework/Versions/3.12/lib/python3.12/site-packages (from python-terrier) (1.3.2)\n",
      "Requirement already satisfied: deprecated in /Library/Frameworks/Python.framework/Versions/3.12/lib/python3.12/site-packages (from python-terrier) (1.2.14)\n",
      "Requirement already satisfied: chest in /Library/Frameworks/Python.framework/Versions/3.12/lib/python3.12/site-packages (from python-terrier) (0.2.3)\n",
      "Requirement already satisfied: scipy in /Library/Frameworks/Python.framework/Versions/3.12/lib/python3.12/site-packages (from python-terrier) (1.11.4)\n",
      "Requirement already satisfied: requests in /Library/Frameworks/Python.framework/Versions/3.12/lib/python3.12/site-packages (from python-terrier) (2.31.0)\n",
      "Requirement already satisfied: joblib in /Library/Frameworks/Python.framework/Versions/3.12/lib/python3.12/site-packages (from python-terrier) (1.3.2)\n",
      "Requirement already satisfied: nptyping==1.4.4 in /Library/Frameworks/Python.framework/Versions/3.12/lib/python3.12/site-packages (from python-terrier) (1.4.4)\n",
      "Requirement already satisfied: more-itertools in /Library/Frameworks/Python.framework/Versions/3.12/lib/python3.12/site-packages (from python-terrier) (10.1.0)\n",
      "Requirement already satisfied: ir-datasets>=0.3.2 in /Library/Frameworks/Python.framework/Versions/3.12/lib/python3.12/site-packages (from python-terrier) (0.5.5)\n",
      "Requirement already satisfied: jinja2 in /Library/Frameworks/Python.framework/Versions/3.12/lib/python3.12/site-packages (from python-terrier) (3.1.2)\n",
      "Requirement already satisfied: statsmodels in /Library/Frameworks/Python.framework/Versions/3.12/lib/python3.12/site-packages (from python-terrier) (0.14.0)\n",
      "Requirement already satisfied: ir-measures>=0.3.1 in /Library/Frameworks/Python.framework/Versions/3.12/lib/python3.12/site-packages (from python-terrier) (0.3.3)\n",
      "Requirement already satisfied: dill in /Library/Frameworks/Python.framework/Versions/3.12/lib/python3.12/site-packages (from python-terrier) (0.3.7)\n",
      "Requirement already satisfied: pytrec-eval-terrier>=0.5.3 in /Library/Frameworks/Python.framework/Versions/3.12/lib/python3.12/site-packages (from python-terrier) (0.5.6)\n",
      "Requirement already satisfied: typish>=1.7.0 in /Library/Frameworks/Python.framework/Versions/3.12/lib/python3.12/site-packages (from nptyping==1.4.4->python-terrier) (1.9.3)\n",
      "Requirement already satisfied: beautifulsoup4>=4.4.1 in /Library/Frameworks/Python.framework/Versions/3.12/lib/python3.12/site-packages (from ir-datasets>=0.3.2->python-terrier) (4.12.2)\n",
      "Requirement already satisfied: inscriptis>=2.2.0 in /Library/Frameworks/Python.framework/Versions/3.12/lib/python3.12/site-packages (from ir-datasets>=0.3.2->python-terrier) (2.3.2)\n",
      "Requirement already satisfied: lxml>=4.5.2 in /Library/Frameworks/Python.framework/Versions/3.12/lib/python3.12/site-packages (from ir-datasets>=0.3.2->python-terrier) (4.9.3)\n",
      "Requirement already satisfied: pyyaml>=5.3.1 in /Library/Frameworks/Python.framework/Versions/3.12/lib/python3.12/site-packages (from ir-datasets>=0.3.2->python-terrier) (6.0.1)\n",
      "Requirement already satisfied: trec-car-tools>=2.5.4 in /Library/Frameworks/Python.framework/Versions/3.12/lib/python3.12/site-packages (from ir-datasets>=0.3.2->python-terrier) (2.6)\n",
      "Requirement already satisfied: lz4>=3.1.10 in /Library/Frameworks/Python.framework/Versions/3.12/lib/python3.12/site-packages (from ir-datasets>=0.3.2->python-terrier) (4.3.2)\n",
      "Requirement already satisfied: warc3-wet>=0.2.3 in /Library/Frameworks/Python.framework/Versions/3.12/lib/python3.12/site-packages (from ir-datasets>=0.3.2->python-terrier) (0.2.3)\n",
      "Requirement already satisfied: warc3-wet-clueweb09>=0.2.5 in /Library/Frameworks/Python.framework/Versions/3.12/lib/python3.12/site-packages (from ir-datasets>=0.3.2->python-terrier) (0.2.5)\n",
      "Requirement already satisfied: zlib-state>=0.1.3 in /Library/Frameworks/Python.framework/Versions/3.12/lib/python3.12/site-packages (from ir-datasets>=0.3.2->python-terrier) (0.1.6)\n",
      "Requirement already satisfied: ijson>=3.1.3 in /Library/Frameworks/Python.framework/Versions/3.12/lib/python3.12/site-packages (from ir-datasets>=0.3.2->python-terrier) (3.2.3)\n",
      "Requirement already satisfied: pyautocorpus>=0.1.1 in /Library/Frameworks/Python.framework/Versions/3.12/lib/python3.12/site-packages (from ir-datasets>=0.3.2->python-terrier) (0.1.12)\n",
      "Requirement already satisfied: unlzw3>=0.2.1 in /Library/Frameworks/Python.framework/Versions/3.12/lib/python3.12/site-packages (from ir-datasets>=0.3.2->python-terrier) (0.2.2)\n",
      "Requirement already satisfied: cwl-eval>=1.0.10 in /Library/Frameworks/Python.framework/Versions/3.12/lib/python3.12/site-packages (from ir-measures>=0.3.1->python-terrier) (1.0.12)\n",
      "Requirement already satisfied: charset-normalizer<4,>=2 in /Library/Frameworks/Python.framework/Versions/3.12/lib/python3.12/site-packages (from requests->python-terrier) (3.3.2)\n",
      "Requirement already satisfied: idna<4,>=2.5 in /Library/Frameworks/Python.framework/Versions/3.12/lib/python3.12/site-packages (from requests->python-terrier) (3.6)\n",
      "Requirement already satisfied: urllib3<3,>=1.21.1 in /Library/Frameworks/Python.framework/Versions/3.12/lib/python3.12/site-packages (from requests->python-terrier) (2.1.0)\n",
      "Requirement already satisfied: certifi>=2017.4.17 in /Library/Frameworks/Python.framework/Versions/3.12/lib/python3.12/site-packages (from requests->python-terrier) (2023.11.17)\n",
      "Requirement already satisfied: heapdict in /Library/Frameworks/Python.framework/Versions/3.12/lib/python3.12/site-packages (from chest->python-terrier) (1.0.1)\n",
      "Requirement already satisfied: wrapt<2,>=1.10 in /Library/Frameworks/Python.framework/Versions/3.12/lib/python3.12/site-packages (from deprecated->python-terrier) (1.16.0)\n",
      "Requirement already satisfied: MarkupSafe>=2.0 in /Library/Frameworks/Python.framework/Versions/3.12/lib/python3.12/site-packages (from jinja2->python-terrier) (2.1.3)\n",
      "Requirement already satisfied: multiset<3.0,>=2.0 in /Library/Frameworks/Python.framework/Versions/3.12/lib/python3.12/site-packages (from matchpy->python-terrier) (2.1.1)\n",
      "Requirement already satisfied: python-dateutil>=2.8.2 in /Library/Frameworks/Python.framework/Versions/3.12/lib/python3.12/site-packages (from pandas->python-terrier) (2.8.2)\n",
      "Requirement already satisfied: pytz>=2020.1 in /Library/Frameworks/Python.framework/Versions/3.12/lib/python3.12/site-packages (from pandas->python-terrier) (2023.3.post1)\n",
      "Requirement already satisfied: tzdata>=2022.1 in /Library/Frameworks/Python.framework/Versions/3.12/lib/python3.12/site-packages (from pandas->python-terrier) (2023.3)\n",
      "Requirement already satisfied: threadpoolctl>=2.0.0 in /Library/Frameworks/Python.framework/Versions/3.12/lib/python3.12/site-packages (from scikit-learn->python-terrier) (3.2.0)\n",
      "Requirement already satisfied: patsy>=0.5.2 in /Library/Frameworks/Python.framework/Versions/3.12/lib/python3.12/site-packages (from statsmodels->python-terrier) (0.5.4)\n",
      "Requirement already satisfied: packaging>=21.3 in /Library/Frameworks/Python.framework/Versions/3.12/lib/python3.12/site-packages (from statsmodels->python-terrier) (23.2)\n",
      "Requirement already satisfied: soupsieve>1.2 in /Library/Frameworks/Python.framework/Versions/3.12/lib/python3.12/site-packages (from beautifulsoup4>=4.4.1->ir-datasets>=0.3.2->python-terrier) (2.5)\n",
      "Requirement already satisfied: six in /Library/Frameworks/Python.framework/Versions/3.12/lib/python3.12/site-packages (from patsy>=0.5.2->statsmodels->python-terrier) (1.16.0)\n",
      "Requirement already satisfied: cbor>=1.0.0 in /Library/Frameworks/Python.framework/Versions/3.12/lib/python3.12/site-packages (from trec-car-tools>=2.5.4->ir-datasets>=0.3.2->python-terrier) (1.0.0)\n",
      "Note: you may need to restart the kernel to use updated packages.\n"
     ]
    }
   ],
   "source": [
    "%pip install python-terrier"
   ]
  },
  {
   "cell_type": "code",
   "execution_count": 4,
   "metadata": {},
   "outputs": [],
   "source": [
    "import pyterrier as pt\n",
    "\n",
    "if not pt.started():\n",
    "    pt.init()\n",
    "\n",
    "# Revert SSL configuration to default\n",
    "import ssl\n",
    "ssl._create_default_https_context = ssl.create_default_context\n"
   ]
  },
  {
   "cell_type": "code",
   "execution_count": null,
   "metadata": {},
   "outputs": [],
   "source": []
  },
  {
   "cell_type": "code",
   "execution_count": 1,
   "metadata": {},
   "outputs": [
    {
     "name": "stdout",
     "output_type": "stream",
     "text": [
      "Loading data from /Users/fanny/Desktop/ir-choco/chocolate_crawler/Crawled/laderach.json\n",
      "Loading data from /Users/fanny/Desktop/ir-choco/chocolate_crawler/Crawled/spruengli.json\n",
      "Loading data from /Users/fanny/Desktop/ir-choco/chocolate_crawler/Crawled/maxchocolatier.json\n"
     ]
    }
   ],
   "source": [
    "import pandas as pd\n",
    "import os\n",
    "import json\n",
    "import numpy as np\n",
    "\n",
    "# Specify the directory path relative to the notebook location\n",
    "data_dir = os.path.abspath(\"../../../../chocolate_crawler/Crawled/\")\n",
    "\n",
    "# List of JSON files\n",
    "json_files = ['laderach.json', 'spruengli.json', 'maxchocolatier.json']\n",
    "\n",
    "# Initialize an empty list to store data from all JSON files\n",
    "all_data = []\n",
    "\n",
    "# Load data from each JSON file\n",
    "for json_file in json_files:\n",
    "    json_path = os.path.join(data_dir, json_file)\n",
    "\n",
    "    print(f\"Loading data from {json_path}\")\n",
    "\n",
    "    try:\n",
    "        with open(json_path, 'r') as f:\n",
    "            data = json.load(f)\n",
    "            all_data.extend(data)\n",
    "    except FileNotFoundError:\n",
    "        print(f\"File not found: {json_path}\")\n",
    "    except json.JSONDecodeError as e:\n",
    "        print(f\"Error decoding JSON in {json_path}: {e}\")\n",
    "\n",
    "\n",
    "# Create an index\n",
    "idx = ['d' + str(i + 1) for i in range(len(all_data))]\n",
    "\n",
    "\n",
    "# Extract relevant information\n",
    "titles = [item.get('title', '') for item in all_data]\n",
    "site = [item.get('page_link', '') for item in all_data]\n",
    "image = [item.get('img_link', '') for item in all_data]\n",
    "descriptions = [item.get('description', '') for item in all_data]\n",
    "ingredients = [item.get('ingredients', '') for item in all_data]\n",
    "allergens = [item.get('allergens', '') for item in all_data]\n",
    "prices = [item.get('price', '') for item in all_data]\n",
    "\n",
    "docs_df = pd.DataFrame({\n",
    "    'docno': idx,\n",
    "    'title': titles,\n",
    "    'site': site,\n",
    "    'img_link': image,\n",
    "    'description': descriptions,\n",
    "    'ingredients': ingredients,\n",
    "    'allergens': allergens,\n",
    "    'price': prices\n",
    "})\n",
    "\n",
    "\n",
    "# Convert DataFrame to a list of dictionaries\n",
    "data_list = docs_df.to_dict(orient='records')\n",
    "\n",
    "# Save the list of dictionaries as JSON\n",
    "# json_file_path = './index/chocolate.json'\n",
    "# with open(json_file_path, 'w') as json_file:\n",
    "#     json_file.write(json.dumps(data_list, indent=2))\n",
    "\n",
    "docs_df.to_csv(\"./index/chocolate.csv\", index=False)\n",
    "# docs_df.to_json('./index/chocolate.json', index=False)\n",
    "\n"
   ]
  },
  {
   "cell_type": "code",
   "execution_count": null,
   "metadata": {},
   "outputs": [],
   "source": [
    "indexer = pt.DFIndexer(\"./index\", overwrite=True)\n",
    "index_ref = indexer.index(docs_df[\"description\"], docs_df[\"docno\"])\n",
    "index_ref.toString()"
   ]
  },
  {
   "cell_type": "code",
   "execution_count": null,
   "metadata": {},
   "outputs": [],
   "source": [
    "!ls -lh index/"
   ]
  },
  {
   "cell_type": "code",
   "execution_count": null,
   "metadata": {},
   "outputs": [],
   "source": [
    "index = pt.IndexFactory.of(index_ref)\n",
    "\n",
    "type(index)"
   ]
  },
  {
   "cell_type": "code",
   "execution_count": null,
   "metadata": {},
   "outputs": [],
   "source": [
    "print(index.getCollectionStatistics().toString())"
   ]
  },
  {
   "cell_type": "code",
   "execution_count": null,
   "metadata": {},
   "outputs": [],
   "source": [
    "for kv in index.getLexicon():\n",
    "  print(\"%s  -> %s \" % (kv.getKey(), kv.getValue().toString()  ))"
   ]
  },
  {
   "cell_type": "code",
   "execution_count": null,
   "metadata": {},
   "outputs": [],
   "source": [
    "# print(index.getLexicon()[\"document\"].toString())\n",
    "# print(index.getLexicon()[\"first\"].toString())\n",
    "# print(index.getLexicon()[\"topic\"].toString())\n",
    "# print(index.getLexicon()[\"unknown\"].toString())\n",
    "\n",
    "for kv in index.getLexicon() :\n",
    "  print(kv.getKey())\n",
    "  print(index.getLexicon()[kv.getKey()].toString())\n",
    "  print('**************************************************')"
   ]
  },
  {
   "cell_type": "code",
   "execution_count": null,
   "metadata": {},
   "outputs": [],
   "source": [
    "word_ = 'chocolate'\n",
    "pointer = index.getLexicon()[word_]\n",
    "for posting in index.getInvertedIndex().getPostings(pointer):\n",
    "    print(posting.toString() + \" doclen=%d\" % posting.getDocumentLength())"
   ]
  },
  {
   "cell_type": "code",
   "execution_count": null,
   "metadata": {},
   "outputs": [],
   "source": [
    "br = pt.BatchRetrieve(index, wmodel=\"BM25\") #Alternative Models: \"TF_IDF\", \"BM25\"\n",
    "br.search(\"dark chocolate\")"
   ]
  },
  {
   "cell_type": "code",
   "execution_count": null,
   "metadata": {},
   "outputs": [],
   "source": [
    "br.search(\"truffle\")"
   ]
  }
 ],
 "metadata": {
  "kernelspec": {
   "display_name": "Python 3.12.0 64-bit",
   "language": "python",
   "name": "python3"
  },
  "language_info": {
   "codemirror_mode": {
    "name": "ipython",
    "version": 3
   },
   "file_extension": ".py",
   "mimetype": "text/x-python",
   "name": "python",
   "nbconvert_exporter": "python",
   "pygments_lexer": "ipython3",
   "version": "3.12.0"
  },
  "vscode": {
   "interpreter": {
    "hash": "aee8b7b246df8f9039afb4144a1f6fd8d2ca17a180786b69acc140d282b71a49"
   }
  }
 },
 "nbformat": 4,
 "nbformat_minor": 2
}

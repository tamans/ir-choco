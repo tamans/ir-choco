{
 "cells": [
  {
   "cell_type": "code",
   "execution_count": null,
   "metadata": {},
   "outputs": [],
   "source": [
    "%pip install python-terrier"
   ]
  },
  {
   "cell_type": "code",
   "execution_count": null,
   "metadata": {},
   "outputs": [],
   "source": []
  },
  {
   "cell_type": "code",
   "execution_count": null,
   "metadata": {},
   "outputs": [],
   "source": [
    "import pyterrier as pt\n",
    "\n",
    "if not pt.started():\n",
    "    pt.init()\n",
    "\n",
    "# Revert SSL configuration to default\n",
    "import ssl\n",
    "ssl._create_default_https_context = ssl.create_default_context\n"
   ]
  },
  {
   "cell_type": "code",
   "execution_count": null,
   "metadata": {},
   "outputs": [],
   "source": []
  },
  {
   "cell_type": "code",
   "execution_count": null,
   "metadata": {},
   "outputs": [],
   "source": [
    "import pandas as pd\n",
    "import os\n",
    "import json\n",
    "import numpy as np\n",
    "\n",
    "# Specify the directory path relative to the notebook location\n",
    "data_dir = os.path.abspath(\"../../../../chocolate_crawler/Crawled/\")\n",
    "\n",
    "# List of JSON files\n",
    "json_files = ['laderach.json', 'spruengli.json', 'maxchocolatier.json']\n",
    "\n",
    "# Initialize an empty list to store data from all JSON files\n",
    "all_data = []\n",
    "\n",
    "# Load data from each JSON file\n",
    "for json_file in json_files:\n",
    "    json_path = os.path.join(data_dir, json_file)\n",
    "\n",
    "    print(f\"Loading data from {json_path}\")\n",
    "\n",
    "    try:\n",
    "        with open(json_path, 'r') as f:\n",
    "            data = json.load(f)\n",
    "            all_data.extend(data)\n",
    "    except FileNotFoundError:\n",
    "        print(f\"File not found: {json_path}\")\n",
    "    except json.JSONDecodeError as e:\n",
    "        print(f\"Error decoding JSON in {json_path}: {e}\")\n",
    "\n",
    "\n",
    "# Create an index\n",
    "idx = ['d' + str(i + 1) for i in range(len(all_data))]\n",
    "\n",
    "\n",
    "# Extract relevant information\n",
    "titles = [item.get('title', '') for item in all_data]\n",
    "site = [item.get('page_link', '') for item in all_data]\n",
    "image = [item.get('img_link', '') for item in all_data]\n",
    "descriptions = [item.get('description', '') for item in all_data]\n",
    "ingredients = [item.get('ingredients', '') for item in all_data]\n",
    "allergens = [item.get('allergens', '') for item in all_data]\n",
    "prices = [item.get('price', '') for item in all_data]\n",
    "\n",
    "docs_df = pd.DataFrame({\n",
    "    'docno': idx,\n",
    "    'title': titles,\n",
    "    'site': site,\n",
    "    'img_link': image,\n",
    "    'description': descriptions,\n",
    "    'ingredients': ingredients,\n",
    "    'allergens': allergens,\n",
    "    'price': prices\n",
    "})\n",
    "\n",
    "\n",
    "# Convert DataFrame to a list of dictionaries\n",
    "data_list = docs_df.to_dict(orient='records')\n",
    "\n",
    "# Save the list of dictionaries as JSON\n",
    "json_file_path = './index/chocolate.json'\n",
    "with open(json_file_path, 'w') as json_file:\n",
    "    json_file.write(json.dumps(data_list, indent=2))\n",
    "\n",
    "docs_df.to_csv(\"./index/chocolate.csv\", index=False)\n",
    "# docs_df.to_json('./index/chocolate.json', index=False)\n",
    "\n"
   ]
  },
  {
   "cell_type": "code",
   "execution_count": null,
   "metadata": {},
   "outputs": [],
   "source": [
    "indexer = pt.DFIndexer(\"./index\", overwrite=True)\n",
    "index_ref = indexer.index(docs_df[\"description\"], docs_df[\"docno\"], docs_df[\"title\"])\n",
    "index_ref.toString()"
   ]
  },
  {
   "cell_type": "code",
   "execution_count": null,
   "metadata": {},
   "outputs": [],
   "source": [
    "!ls -lh index/"
   ]
  },
  {
   "cell_type": "code",
   "execution_count": 18,
   "metadata": {},
   "outputs": [
    {
     "data": {
      "text/plain": [
       "jnius.reflect.org.terrier.structures.Index"
      ]
     },
     "execution_count": 18,
     "metadata": {},
     "output_type": "execute_result"
    }
   ],
   "source": [
    "index = pt.IndexFactory.of(index_ref)\n",
    "\n",
    "type(index)"
   ]
  },
  {
   "cell_type": "code",
   "execution_count": null,
   "metadata": {},
   "outputs": [],
   "source": [
    "print(index.getCollectionStatistics().toString())"
   ]
  },
  {
   "cell_type": "code",
   "execution_count": null,
   "metadata": {},
   "outputs": [],
   "source": [
    "for kv in index.getLexicon():\n",
    "  print(\"%s  -> %s \" % (kv.getKey(), kv.getValue().toString()  ))"
   ]
  },
  {
   "cell_type": "code",
   "execution_count": null,
   "metadata": {},
   "outputs": [],
   "source": [
    "# print(index.getLexicon()[\"document\"].toString())\n",
    "# print(index.getLexicon()[\"first\"].toString())\n",
    "# print(index.getLexicon()[\"topic\"].toString())\n",
    "# print(index.getLexicon()[\"unknown\"].toString())\n",
    "\n",
    "for kv in index.getLexicon() :\n",
    "  print(kv.getKey())\n",
    "  print(index.getLexicon()[kv.getKey()].toString())\n",
    "  print('**************************************************')"
   ]
  },
  {
   "cell_type": "code",
   "execution_count": null,
   "metadata": {},
   "outputs": [],
   "source": [
    "br = pt.BatchRetrieve(index, wmodel=\"BM25\")\n",
    "br.search('white chocolate')"
   ]
  }
 ],
 "metadata": {
  "kernelspec": {
   "display_name": "Python 3.12.0 64-bit",
   "language": "python",
   "name": "python3"
  },
  "language_info": {
   "codemirror_mode": {
    "name": "ipython",
    "version": 3
   },
   "file_extension": ".py",
   "mimetype": "text/x-python",
   "name": "python",
   "nbconvert_exporter": "python",
   "pygments_lexer": "ipython3",
   "version": "3.11.6"
  },
  "vscode": {
   "interpreter": {
    "hash": "aee8b7b246df8f9039afb4144a1f6fd8d2ca17a180786b69acc140d282b71a49"
   }
  }
 },
 "nbformat": 4,
 "nbformat_minor": 2
}
